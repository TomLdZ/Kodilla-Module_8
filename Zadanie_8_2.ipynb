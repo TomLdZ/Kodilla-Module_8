{
 "cells": [
  {
   "cell_type": "code",
   "execution_count": 1,
   "id": "afb85be0-91e0-4391-9fc5-ef646a045464",
   "metadata": {},
   "outputs": [],
   "source": [
    "import pandas as pd"
   ]
  },
  {
   "cell_type": "code",
   "execution_count": 63,
   "id": "08a68f06-f07d-471f-8664-f77b9ab688dc",
   "metadata": {},
   "outputs": [],
   "source": [
    "df = pd.read_html('https://www.officialcharts.com/chart-news/the-best-selling-albums-of-all-time-on-the-official-uk-chart__15551/', header=0)"
   ]
  },
  {
   "cell_type": "code",
   "execution_count": 64,
   "id": "5f8aa5c7-352c-4b74-8cb1-50ae64385776",
   "metadata": {},
   "outputs": [
    {
     "data": {
      "text/html": [
       "<div>\n",
       "<style scoped>\n",
       "    .dataframe tbody tr th:only-of-type {\n",
       "        vertical-align: middle;\n",
       "    }\n",
       "\n",
       "    .dataframe tbody tr th {\n",
       "        vertical-align: top;\n",
       "    }\n",
       "\n",
       "    .dataframe thead th {\n",
       "        text-align: right;\n",
       "    }\n",
       "</style>\n",
       "<table border=\"1\" class=\"dataframe\">\n",
       "  <thead>\n",
       "    <tr style=\"text-align: right;\">\n",
       "      <th></th>\n",
       "      <th>POS</th>\n",
       "      <th>TITLE</th>\n",
       "      <th>ARTIST</th>\n",
       "      <th>YEAR</th>\n",
       "      <th>HIGH POSN</th>\n",
       "    </tr>\n",
       "  </thead>\n",
       "  <tbody>\n",
       "    <tr>\n",
       "      <th>0</th>\n",
       "      <td>1</td>\n",
       "      <td>GREATEST HITS</td>\n",
       "      <td>QUEEN</td>\n",
       "      <td>1981</td>\n",
       "      <td>1</td>\n",
       "    </tr>\n",
       "    <tr>\n",
       "      <th>1</th>\n",
       "      <td>2</td>\n",
       "      <td>GOLD - GREATEST HITS</td>\n",
       "      <td>ABBA</td>\n",
       "      <td>1992</td>\n",
       "      <td>1</td>\n",
       "    </tr>\n",
       "    <tr>\n",
       "      <th>2</th>\n",
       "      <td>3</td>\n",
       "      <td>SGT PEPPER'S LONELY HEARTS CLUB BAND</td>\n",
       "      <td>BEATLES</td>\n",
       "      <td>1967</td>\n",
       "      <td>1</td>\n",
       "    </tr>\n",
       "    <tr>\n",
       "      <th>3</th>\n",
       "      <td>4</td>\n",
       "      <td>21</td>\n",
       "      <td>ADELE</td>\n",
       "      <td>2011</td>\n",
       "      <td>1</td>\n",
       "    </tr>\n",
       "    <tr>\n",
       "      <th>4</th>\n",
       "      <td>5</td>\n",
       "      <td>WHAT'S THE STORY MORNING GLORY</td>\n",
       "      <td>OASIS</td>\n",
       "      <td>1995</td>\n",
       "      <td>1</td>\n",
       "    </tr>\n",
       "  </tbody>\n",
       "</table>\n",
       "</div>"
      ],
      "text/plain": [
       "   POS                                 TITLE   ARTIST  YEAR  HIGH POSN\n",
       "0    1                         GREATEST HITS    QUEEN  1981          1\n",
       "1    2                  GOLD - GREATEST HITS     ABBA  1992          1\n",
       "2    3  SGT PEPPER'S LONELY HEARTS CLUB BAND  BEATLES  1967          1\n",
       "3    4                                    21    ADELE  2011          1\n",
       "4    5        WHAT'S THE STORY MORNING GLORY    OASIS  1995          1"
      ]
     },
     "execution_count": 64,
     "metadata": {},
     "output_type": "execute_result"
    }
   ],
   "source": [
    "df = df[0]\n",
    "df.head()"
   ]
  },
  {
   "cell_type": "markdown",
   "id": "6cad31f8-21c2-4e73-8429-81e6e8e13d1a",
   "metadata": {},
   "source": [
    "## 1. "
   ]
  },
  {
   "cell_type": "code",
   "execution_count": 68,
   "id": "b024eea4-66f8-407d-a8a3-d78c553842a5",
   "metadata": {},
   "outputs": [
    {
     "data": {
      "text/html": [
       "<div>\n",
       "<style scoped>\n",
       "    .dataframe tbody tr th:only-of-type {\n",
       "        vertical-align: middle;\n",
       "    }\n",
       "\n",
       "    .dataframe tbody tr th {\n",
       "        vertical-align: top;\n",
       "    }\n",
       "\n",
       "    .dataframe thead th {\n",
       "        text-align: right;\n",
       "    }\n",
       "</style>\n",
       "<table border=\"1\" class=\"dataframe\">\n",
       "  <thead>\n",
       "    <tr style=\"text-align: right;\">\n",
       "      <th></th>\n",
       "      <th>POZ</th>\n",
       "      <th>TYTUŁ</th>\n",
       "      <th>ARTYSTA</th>\n",
       "      <th>ROK</th>\n",
       "      <th>MAX POZ</th>\n",
       "    </tr>\n",
       "  </thead>\n",
       "  <tbody>\n",
       "    <tr>\n",
       "      <th>0</th>\n",
       "      <td>1</td>\n",
       "      <td>GREATEST HITS</td>\n",
       "      <td>QUEEN</td>\n",
       "      <td>1981</td>\n",
       "      <td>1</td>\n",
       "    </tr>\n",
       "    <tr>\n",
       "      <th>1</th>\n",
       "      <td>2</td>\n",
       "      <td>GOLD - GREATEST HITS</td>\n",
       "      <td>ABBA</td>\n",
       "      <td>1992</td>\n",
       "      <td>1</td>\n",
       "    </tr>\n",
       "    <tr>\n",
       "      <th>2</th>\n",
       "      <td>3</td>\n",
       "      <td>SGT PEPPER'S LONELY HEARTS CLUB BAND</td>\n",
       "      <td>BEATLES</td>\n",
       "      <td>1967</td>\n",
       "      <td>1</td>\n",
       "    </tr>\n",
       "    <tr>\n",
       "      <th>3</th>\n",
       "      <td>4</td>\n",
       "      <td>21</td>\n",
       "      <td>ADELE</td>\n",
       "      <td>2011</td>\n",
       "      <td>1</td>\n",
       "    </tr>\n",
       "    <tr>\n",
       "      <th>4</th>\n",
       "      <td>5</td>\n",
       "      <td>WHAT'S THE STORY MORNING GLORY</td>\n",
       "      <td>OASIS</td>\n",
       "      <td>1995</td>\n",
       "      <td>1</td>\n",
       "    </tr>\n",
       "  </tbody>\n",
       "</table>\n",
       "</div>"
      ],
      "text/plain": [
       "   POZ                                 TYTUŁ  ARTYSTA   ROK  MAX POZ\n",
       "0    1                         GREATEST HITS    QUEEN  1981        1\n",
       "1    2                  GOLD - GREATEST HITS     ABBA  1992        1\n",
       "2    3  SGT PEPPER'S LONELY HEARTS CLUB BAND  BEATLES  1967        1\n",
       "3    4                                    21    ADELE  2011        1\n",
       "4    5        WHAT'S THE STORY MORNING GLORY    OASIS  1995        1"
      ]
     },
     "execution_count": 68,
     "metadata": {},
     "output_type": "execute_result"
    }
   ],
   "source": [
    "df.rename(columns={'POS':'POZ', 'TITLE':'TYTUŁ', 'ARTIST':'ARTYSTA', 'YEAR':'ROK', 'HIGH POSN':'MAX POZ'}, inplace=True)\n",
    "df.head()        "
   ]
  },
  {
   "cell_type": "code",
   "execution_count": 70,
   "id": "ec6b82f6-11b7-4b22-8129-5388da420ec1",
   "metadata": {},
   "outputs": [
    {
     "data": {
      "text/html": [
       "<div>\n",
       "<style scoped>\n",
       "    .dataframe tbody tr th:only-of-type {\n",
       "        vertical-align: middle;\n",
       "    }\n",
       "\n",
       "    .dataframe tbody tr th {\n",
       "        vertical-align: top;\n",
       "    }\n",
       "\n",
       "    .dataframe thead th {\n",
       "        text-align: right;\n",
       "    }\n",
       "</style>\n",
       "<table border=\"1\" class=\"dataframe\">\n",
       "  <thead>\n",
       "    <tr style=\"text-align: right;\">\n",
       "      <th></th>\n",
       "      <th>TYTUŁ</th>\n",
       "      <th>ARTYSTA</th>\n",
       "      <th>ROK</th>\n",
       "      <th>MAX POZ</th>\n",
       "    </tr>\n",
       "    <tr>\n",
       "      <th>POZ</th>\n",
       "      <th></th>\n",
       "      <th></th>\n",
       "      <th></th>\n",
       "      <th></th>\n",
       "    </tr>\n",
       "  </thead>\n",
       "  <tbody>\n",
       "    <tr>\n",
       "      <th>1</th>\n",
       "      <td>GREATEST HITS</td>\n",
       "      <td>QUEEN</td>\n",
       "      <td>1981</td>\n",
       "      <td>1</td>\n",
       "    </tr>\n",
       "    <tr>\n",
       "      <th>2</th>\n",
       "      <td>GOLD - GREATEST HITS</td>\n",
       "      <td>ABBA</td>\n",
       "      <td>1992</td>\n",
       "      <td>1</td>\n",
       "    </tr>\n",
       "    <tr>\n",
       "      <th>3</th>\n",
       "      <td>SGT PEPPER'S LONELY HEARTS CLUB BAND</td>\n",
       "      <td>BEATLES</td>\n",
       "      <td>1967</td>\n",
       "      <td>1</td>\n",
       "    </tr>\n",
       "    <tr>\n",
       "      <th>4</th>\n",
       "      <td>21</td>\n",
       "      <td>ADELE</td>\n",
       "      <td>2011</td>\n",
       "      <td>1</td>\n",
       "    </tr>\n",
       "    <tr>\n",
       "      <th>5</th>\n",
       "      <td>WHAT'S THE STORY MORNING GLORY</td>\n",
       "      <td>OASIS</td>\n",
       "      <td>1995</td>\n",
       "      <td>1</td>\n",
       "    </tr>\n",
       "  </tbody>\n",
       "</table>\n",
       "</div>"
      ],
      "text/plain": [
       "                                    TYTUŁ  ARTYSTA   ROK  MAX POZ\n",
       "POZ                                                              \n",
       "1                           GREATEST HITS    QUEEN  1981        1\n",
       "2                    GOLD - GREATEST HITS     ABBA  1992        1\n",
       "3    SGT PEPPER'S LONELY HEARTS CLUB BAND  BEATLES  1967        1\n",
       "4                                      21    ADELE  2011        1\n",
       "5          WHAT'S THE STORY MORNING GLORY    OASIS  1995        1"
      ]
     },
     "execution_count": 70,
     "metadata": {},
     "output_type": "execute_result"
    }
   ],
   "source": [
    "df.set_index('POZ', inplace=True)\n",
    "df.head()"
   ]
  },
  {
   "cell_type": "markdown",
   "id": "93eb1b24-22cc-44b3-b1e8-96fd601cf0bc",
   "metadata": {},
   "source": [
    "## 2."
   ]
  },
  {
   "cell_type": "code",
   "execution_count": 73,
   "id": "2973a4c6-9fa0-4dd5-aef5-5a33d4ad1465",
   "metadata": {},
   "outputs": [
    {
     "data": {
      "text/plain": [
       "47"
      ]
     },
     "execution_count": 73,
     "metadata": {},
     "output_type": "execute_result"
    }
   ],
   "source": [
    "df['ARTYSTA'].nunique()"
   ]
  },
  {
   "cell_type": "markdown",
   "id": "f1fcc1bc-a8f4-48ab-a863-b11381fef096",
   "metadata": {},
   "source": [
    "## 3."
   ]
  },
  {
   "cell_type": "code",
   "execution_count": 91,
   "id": "37ab5507-476a-4ec2-860f-7075fa17fc49",
   "metadata": {},
   "outputs": [
    {
     "data": {
      "text/plain": [
       "COLDPLAY     3\n",
       "TAKE THAT    3\n",
       "Name: ARTYSTA, dtype: int64"
      ]
     },
     "execution_count": 91,
     "metadata": {},
     "output_type": "execute_result"
    }
   ],
   "source": [
    "df['ARTYSTA'].value_counts()[df['ARTYSTA'].value_counts() == df['ARTYSTA'].value_counts().max()]"
   ]
  },
  {
   "cell_type": "markdown",
   "id": "44346ed0-1aae-47dd-b28f-7b3b1ff8a0c4",
   "metadata": {},
   "source": [
    "## 4."
   ]
  },
  {
   "cell_type": "code",
   "execution_count": 94,
   "id": "42135bfc-07a5-4683-8613-01a6b3da7c24",
   "metadata": {},
   "outputs": [
    {
     "data": {
      "text/html": [
       "<div>\n",
       "<style scoped>\n",
       "    .dataframe tbody tr th:only-of-type {\n",
       "        vertical-align: middle;\n",
       "    }\n",
       "\n",
       "    .dataframe tbody tr th {\n",
       "        vertical-align: top;\n",
       "    }\n",
       "\n",
       "    .dataframe thead th {\n",
       "        text-align: right;\n",
       "    }\n",
       "</style>\n",
       "<table border=\"1\" class=\"dataframe\">\n",
       "  <thead>\n",
       "    <tr style=\"text-align: right;\">\n",
       "      <th></th>\n",
       "      <th>Tytuł</th>\n",
       "      <th>Artysta</th>\n",
       "      <th>Rok</th>\n",
       "      <th>Max Poz</th>\n",
       "    </tr>\n",
       "    <tr>\n",
       "      <th>POZ</th>\n",
       "      <th></th>\n",
       "      <th></th>\n",
       "      <th></th>\n",
       "      <th></th>\n",
       "    </tr>\n",
       "  </thead>\n",
       "  <tbody>\n",
       "    <tr>\n",
       "      <th>1</th>\n",
       "      <td>GREATEST HITS</td>\n",
       "      <td>QUEEN</td>\n",
       "      <td>1981</td>\n",
       "      <td>1</td>\n",
       "    </tr>\n",
       "    <tr>\n",
       "      <th>2</th>\n",
       "      <td>GOLD - GREATEST HITS</td>\n",
       "      <td>ABBA</td>\n",
       "      <td>1992</td>\n",
       "      <td>1</td>\n",
       "    </tr>\n",
       "    <tr>\n",
       "      <th>3</th>\n",
       "      <td>SGT PEPPER'S LONELY HEARTS CLUB BAND</td>\n",
       "      <td>BEATLES</td>\n",
       "      <td>1967</td>\n",
       "      <td>1</td>\n",
       "    </tr>\n",
       "    <tr>\n",
       "      <th>4</th>\n",
       "      <td>21</td>\n",
       "      <td>ADELE</td>\n",
       "      <td>2011</td>\n",
       "      <td>1</td>\n",
       "    </tr>\n",
       "    <tr>\n",
       "      <th>5</th>\n",
       "      <td>WHAT'S THE STORY MORNING GLORY</td>\n",
       "      <td>OASIS</td>\n",
       "      <td>1995</td>\n",
       "      <td>1</td>\n",
       "    </tr>\n",
       "  </tbody>\n",
       "</table>\n",
       "</div>"
      ],
      "text/plain": [
       "                                    Tytuł  Artysta   Rok  Max Poz\n",
       "POZ                                                              \n",
       "1                           GREATEST HITS    QUEEN  1981        1\n",
       "2                    GOLD - GREATEST HITS     ABBA  1992        1\n",
       "3    SGT PEPPER'S LONELY HEARTS CLUB BAND  BEATLES  1967        1\n",
       "4                                      21    ADELE  2011        1\n",
       "5          WHAT'S THE STORY MORNING GLORY    OASIS  1995        1"
      ]
     },
     "execution_count": 94,
     "metadata": {},
     "output_type": "execute_result"
    }
   ],
   "source": [
    "df.rename(str.title, axis=1, inplace=True)\n",
    "df.head()"
   ]
  },
  {
   "cell_type": "markdown",
   "id": "38ef6d90-1050-47bd-bb0a-ad1d4e1756a4",
   "metadata": {},
   "source": [
    "## 5."
   ]
  },
  {
   "cell_type": "code",
   "execution_count": 99,
   "id": "d3b60f76-4c62-4464-ab00-7ba732339855",
   "metadata": {},
   "outputs": [
    {
     "data": {
      "text/html": [
       "<div>\n",
       "<style scoped>\n",
       "    .dataframe tbody tr th:only-of-type {\n",
       "        vertical-align: middle;\n",
       "    }\n",
       "\n",
       "    .dataframe tbody tr th {\n",
       "        vertical-align: top;\n",
       "    }\n",
       "\n",
       "    .dataframe thead th {\n",
       "        text-align: right;\n",
       "    }\n",
       "</style>\n",
       "<table border=\"1\" class=\"dataframe\">\n",
       "  <thead>\n",
       "    <tr style=\"text-align: right;\">\n",
       "      <th></th>\n",
       "      <th>Tytuł</th>\n",
       "      <th>Artysta</th>\n",
       "      <th>Rok</th>\n",
       "    </tr>\n",
       "    <tr>\n",
       "      <th>POZ</th>\n",
       "      <th></th>\n",
       "      <th></th>\n",
       "      <th></th>\n",
       "    </tr>\n",
       "  </thead>\n",
       "  <tbody>\n",
       "    <tr>\n",
       "      <th>1</th>\n",
       "      <td>GREATEST HITS</td>\n",
       "      <td>QUEEN</td>\n",
       "      <td>1981</td>\n",
       "    </tr>\n",
       "    <tr>\n",
       "      <th>2</th>\n",
       "      <td>GOLD - GREATEST HITS</td>\n",
       "      <td>ABBA</td>\n",
       "      <td>1992</td>\n",
       "    </tr>\n",
       "    <tr>\n",
       "      <th>3</th>\n",
       "      <td>SGT PEPPER'S LONELY HEARTS CLUB BAND</td>\n",
       "      <td>BEATLES</td>\n",
       "      <td>1967</td>\n",
       "    </tr>\n",
       "    <tr>\n",
       "      <th>4</th>\n",
       "      <td>21</td>\n",
       "      <td>ADELE</td>\n",
       "      <td>2011</td>\n",
       "    </tr>\n",
       "    <tr>\n",
       "      <th>5</th>\n",
       "      <td>WHAT'S THE STORY MORNING GLORY</td>\n",
       "      <td>OASIS</td>\n",
       "      <td>1995</td>\n",
       "    </tr>\n",
       "  </tbody>\n",
       "</table>\n",
       "</div>"
      ],
      "text/plain": [
       "                                    Tytuł  Artysta   Rok\n",
       "POZ                                                     \n",
       "1                           GREATEST HITS    QUEEN  1981\n",
       "2                    GOLD - GREATEST HITS     ABBA  1992\n",
       "3    SGT PEPPER'S LONELY HEARTS CLUB BAND  BEATLES  1967\n",
       "4                                      21    ADELE  2011\n",
       "5          WHAT'S THE STORY MORNING GLORY    OASIS  1995"
      ]
     },
     "execution_count": 99,
     "metadata": {},
     "output_type": "execute_result"
    }
   ],
   "source": [
    "df.drop('Max Poz', axis=1, inplace=True)\n",
    "df.head()"
   ]
  },
  {
   "cell_type": "markdown",
   "id": "b5ed85ff-9917-42b9-8ad9-298f6c34628d",
   "metadata": {},
   "source": [
    "## 6."
   ]
  },
  {
   "cell_type": "code",
   "execution_count": 120,
   "id": "1c918d03-5670-4b0e-bab2-ebc6c89a04cf",
   "metadata": {},
   "outputs": [
    {
     "data": {
      "text/html": [
       "<div>\n",
       "<style scoped>\n",
       "    .dataframe tbody tr th:only-of-type {\n",
       "        vertical-align: middle;\n",
       "    }\n",
       "\n",
       "    .dataframe tbody tr th {\n",
       "        vertical-align: top;\n",
       "    }\n",
       "\n",
       "    .dataframe thead th {\n",
       "        text-align: right;\n",
       "    }\n",
       "</style>\n",
       "<table border=\"1\" class=\"dataframe\">\n",
       "  <thead>\n",
       "    <tr style=\"text-align: right;\">\n",
       "      <th></th>\n",
       "      <th>Tytuł</th>\n",
       "      <th>Artysta</th>\n",
       "    </tr>\n",
       "    <tr>\n",
       "      <th>Rok</th>\n",
       "      <th></th>\n",
       "      <th></th>\n",
       "    </tr>\n",
       "  </thead>\n",
       "  <tbody>\n",
       "    <tr>\n",
       "      <th>1987</th>\n",
       "      <td>4.0</td>\n",
       "      <td>4.0</td>\n",
       "    </tr>\n",
       "    <tr>\n",
       "      <th>2000</th>\n",
       "      <td>4.0</td>\n",
       "      <td>4.0</td>\n",
       "    </tr>\n",
       "  </tbody>\n",
       "</table>\n",
       "</div>"
      ],
      "text/plain": [
       "      Tytuł  Artysta\n",
       "Rok                 \n",
       "1987    4.0      4.0\n",
       "2000    4.0      4.0"
      ]
     },
     "execution_count": 120,
     "metadata": {},
     "output_type": "execute_result"
    }
   ],
   "source": [
    "df.groupby('Rok').count()[df.groupby('Rok').count() == df.groupby('Rok').count().max()].dropna()"
   ]
  },
  {
   "cell_type": "markdown",
   "id": "c1ca99e3-4293-4339-b96f-6f9467baf753",
   "metadata": {},
   "source": [
    "## 7."
   ]
  },
  {
   "cell_type": "code",
   "execution_count": 138,
   "id": "b961bb6d-5e74-4db7-881f-11e9fd7affd0",
   "metadata": {},
   "outputs": [
    {
     "data": {
      "text/plain": [
       "Tytuł      21\n",
       "Artysta    21\n",
       "Rok        21\n",
       "dtype: int64"
      ]
     },
     "execution_count": 138,
     "metadata": {},
     "output_type": "execute_result"
    }
   ],
   "source": [
    "df[(df['Rok']>1960)&(df['Rok']<1990)].count()"
   ]
  },
  {
   "cell_type": "markdown",
   "id": "254e4210-8f23-49f0-9082-3e3497ae46cc",
   "metadata": {},
   "source": [
    "## 8."
   ]
  },
  {
   "cell_type": "code",
   "execution_count": 144,
   "id": "ec45a976-eb4f-48a6-9f2b-b3de2f1f4d1c",
   "metadata": {},
   "outputs": [
    {
     "data": {
      "text/plain": [
       "POZ\n",
       "27    2015\n",
       "Name: Rok, dtype: int64"
      ]
     },
     "execution_count": 144,
     "metadata": {},
     "output_type": "execute_result"
    }
   ],
   "source": [
    "df[df['Rok'] == df['Rok'].max()]['Rok']"
   ]
  },
  {
   "cell_type": "markdown",
   "id": "5a6501e7-4822-4c70-8369-e7d29ee9b95d",
   "metadata": {},
   "source": [
    "## 9."
   ]
  },
  {
   "cell_type": "code",
   "execution_count": 227,
   "id": "9fb6e76a-52e7-47d6-8355-0d0a7de97e6c",
   "metadata": {},
   "outputs": [
    {
     "data": {
      "text/plain": [
       "Artysta                   Rok \n",
       "ABBA                      1975                             GREATEST HITS\n",
       "                          1992                      GOLD - GREATEST HITS\n",
       "ADELE                     2011                                        21\n",
       "                          2015                                        25\n",
       "ALANIS MORISSETTE         1995                        JAGGED LITTLE PILL\n",
       "AMY WINEHOUSE             2006                             BACK TO BLACK\n",
       "BEATLES                   1967      SGT PEPPER'S LONELY HEARTS CLUB BAND\n",
       "                          2000                                         1\n",
       "BOB MARLEY & THE WAILERS  1984                                    LEGEND\n",
       "COLDPLAY                  2000                                PARACHUTES\n",
       "                          2002               A RUSH OF BLOOD TO THE HEAD\n",
       "                          2005                                       X&Y\n",
       "CORRS                     1997                           TALK ON CORNERS\n",
       "DAVID GRAY                1998                              WHITE LADDER\n",
       "DIDO                      2000                                  NO ANGEL\n",
       "                          2003                             LIFE FOR RENT\n",
       "DIRE STRAITS              1985                          BROTHERS IN ARMS\n",
       "ED SHEERAN                2014                                         X\n",
       "EMINEM                    2000                   THE MARSHALL MATHERS LP\n",
       "FLEETWOOD MAC             1977                                   RUMOURS\n",
       "                          1987                        TANGO IN THE NIGHT\n",
       "GEORGE MICHAEL            1998          LADIES & GENTLEMEN - THE BEST OF\n",
       "JAMES BLUNT               2004                            BACK TO BEDLAM\n",
       "JEFF WAYNE                1978                     THE WAR OF THE WORLDS\n",
       "KEANE                     2004                           HOPES AND FEARS\n",
       "KINGS OF LEON             2008                         ONLY BY THE NIGHT\n",
       "LADY GAGA                 2008                                  THE FAME\n",
       "LEONA LEWIS               2007                                    SPIRIT\n",
       "MADONNA                   1990                 THE IMMACULATE COLLECTION\n",
       "MEAT LOAF                 1977                           BAT OUT OF HELL\n",
       "MICHAEL BUBLE             2009                                CRAZY LOVE\n",
       "MICHAEL JACKSON           1982                                  THRILLER\n",
       "                          1987                                       BAD\n",
       "MIKE OLDFIELD             1973                             TUBULAR BELLS\n",
       "NORAH JONES               2002                         COME AWAY WITH ME\n",
       "OASIS                     1995            WHAT'S THE STORY MORNING GLORY\n",
       "ORIGINAL CAST RECORDING   1965                        THE SOUND OF MUSIC\n",
       "ORIGINAL SOUNDTRACK       1977                                    GREASE\n",
       "                          1987                             DIRTY DANCING\n",
       "PAUL SIMON                1986                                 GRACELAND\n",
       "PHIL COLLINS              1989                             BUT SERIOUSLY\n",
       "PINK FLOYD                1973                 THE DARK SIDE OF THE MOON\n",
       "QUEEN                     1981                             GREATEST HITS\n",
       "                          1991                          GREATEST HITS II\n",
       "REM                       1992                  AUTOMATIC FOR THE PEOPLE\n",
       "ROBBIE WILLIAMS           1998                   I'VE BEEN EXPECTING YOU\n",
       "                          2001                 SWING WHEN YOU'RE WINNING\n",
       "SCISSOR SISTERS           2004                           SCISSOR SISTERS\n",
       "SHANIA TWAIN              1997                              COME ON OVER\n",
       "SIMON & GARFUNKEL         1970                BRIDGE OVER TROUBLED WATER\n",
       "SIMPLY RED                1991                                     STARS\n",
       "SNOW PATROL               2006                                 EYES OPEN\n",
       "SPICE GIRLS               1996                                     SPICE\n",
       "TAKE THAT                 2005    NEVER FORGET - THE ULTIMATE COLLECTION\n",
       "                          2006                           BEAUTIFUL WORLD\n",
       "                          2010                                  PROGRESS\n",
       "TRACY CHAPMAN             1988                             TRACY CHAPMAN\n",
       "TRAVIS                    1999                               THE MAN WHO\n",
       "U2                        1987                           THE JOSHUA TREE\n",
       "VERVE                     1997                               URBAN HYMNS\n",
       "Name: Tytuł, dtype: object"
      ]
     },
     "execution_count": 227,
     "metadata": {},
     "output_type": "execute_result"
    }
   ],
   "source": [
    "df_gr = df.groupby(['Artysta', 'Rok']).Tytuł.max()\n",
    "df_gr"
   ]
  },
  {
   "cell_type": "code",
   "execution_count": 229,
   "id": "b7d234b9-8106-4e4b-b842-cbd8b9eb499b",
   "metadata": {},
   "outputs": [
    {
     "data": {
      "text/plain": [
       "['GREATEST HITS',\n",
       " '21',\n",
       " 'JAGGED LITTLE PILL',\n",
       " 'BACK TO BLACK',\n",
       " \"SGT PEPPER'S LONELY HEARTS CLUB BAND\",\n",
       " 'LEGEND',\n",
       " 'PARACHUTES',\n",
       " 'TALK ON CORNERS',\n",
       " 'WHITE LADDER',\n",
       " 'NO ANGEL',\n",
       " 'BROTHERS IN ARMS',\n",
       " 'X',\n",
       " 'THE MARSHALL MATHERS LP',\n",
       " 'RUMOURS',\n",
       " 'LADIES & GENTLEMEN - THE BEST OF',\n",
       " 'BACK TO BEDLAM',\n",
       " 'THE WAR OF THE WORLDS',\n",
       " 'HOPES AND FEARS',\n",
       " 'ONLY BY THE NIGHT',\n",
       " 'THE FAME',\n",
       " 'SPIRIT',\n",
       " 'THE IMMACULATE COLLECTION',\n",
       " 'BAT OUT OF HELL',\n",
       " 'CRAZY LOVE',\n",
       " 'THRILLER',\n",
       " 'TUBULAR BELLS',\n",
       " 'COME AWAY WITH ME',\n",
       " \"WHAT'S THE STORY MORNING GLORY\",\n",
       " 'THE SOUND OF MUSIC',\n",
       " 'GREASE',\n",
       " 'GRACELAND',\n",
       " 'BUT SERIOUSLY',\n",
       " 'THE DARK SIDE OF THE MOON',\n",
       " 'AUTOMATIC FOR THE PEOPLE',\n",
       " \"I'VE BEEN EXPECTING YOU\",\n",
       " 'SCISSOR SISTERS',\n",
       " 'COME ON OVER',\n",
       " 'BRIDGE OVER TROUBLED WATER',\n",
       " 'STARS',\n",
       " 'EYES OPEN',\n",
       " 'SPICE',\n",
       " 'NEVER FORGET - THE ULTIMATE COLLECTION',\n",
       " 'TRACY CHAPMAN',\n",
       " 'THE MAN WHO',\n",
       " 'THE JOSHUA TREE',\n",
       " 'URBAN HYMNS']"
      ]
     },
     "execution_count": 229,
     "metadata": {},
     "output_type": "execute_result"
    }
   ],
   "source": [
    "list = []\n",
    "[list.append(df_gr.loc[a].iloc[0]) for a in df['Artysta'].sort_values() if df_gr.loc[a].iloc[0] not in list]\n",
    "list"
   ]
  },
  {
   "cell_type": "markdown",
   "id": "2dc25fa3-bd15-475f-ad61-f9ece7d2d863",
   "metadata": {},
   "source": [
    "## 10."
   ]
  },
  {
   "cell_type": "code",
   "execution_count": 236,
   "id": "54040207-065a-4e05-ae5e-f03dee70cb28",
   "metadata": {},
   "outputs": [],
   "source": [
    "pd.Series(list).to_csv('firtsAlbumList.csv', index=False)"
   ]
  },
  {
   "cell_type": "code",
   "execution_count": null,
   "id": "b35eaecb-44ce-4b39-a23d-85c06a4e2a78",
   "metadata": {},
   "outputs": [],
   "source": []
  }
 ],
 "metadata": {
  "kernelspec": {
   "display_name": "Python 3 (ipykernel)",
   "language": "python",
   "name": "python3"
  },
  "language_info": {
   "codemirror_mode": {
    "name": "ipython",
    "version": 3
   },
   "file_extension": ".py",
   "mimetype": "text/x-python",
   "name": "python",
   "nbconvert_exporter": "python",
   "pygments_lexer": "ipython3",
   "version": "3.11.7"
  }
 },
 "nbformat": 4,
 "nbformat_minor": 5
}
